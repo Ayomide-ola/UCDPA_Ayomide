{
  "cells": [
    {
      "cell_type": "markdown",
      "metadata": {
        "id": "view-in-github",
        "colab_type": "text"
      },
      "source": [
        "<a href=\"https://colab.research.google.com/github/timayez/UCDPA_Ayomide/blob/main/Python%20_%20str%2C%20list%2C%20indexing_1.ipynb\" target=\"_parent\"><img src=\"https://colab.research.google.com/assets/colab-badge.svg\" alt=\"Open In Colab\"/></a>"
      ]
    },
    {
      "cell_type": "code",
      "execution_count": null,
      "id": "a4cf18fa",
      "metadata": {
        "id": "a4cf18fa",
        "outputId": "0c06ebb0-43fd-4970-8368-838c6892e814"
      },
      "outputs": [
        {
          "name": "stdout",
          "output_type": "stream",
          "text": [
            "banana apple\n"
          ]
        }
      ],
      "source": [
        "# Declare and initialise a string, = means assignment, equal\n",
        "\n",
        "fruit = 'banana'\n",
        "        #0, 1, 2, 3, 4, 5\n",
        "\n",
        "# Display the srring named as 'fruit'\n",
        "\n",
        "print(fruit)"
      ]
    },
    {
      "cell_type": "code",
      "execution_count": null,
      "id": "78233602",
      "metadata": {
        "id": "78233602",
        "outputId": "f1d6a2f0-ebc6-4af1-ad44-8a54725bb8a3"
      },
      "outputs": [
        {
          "name": "stdout",
          "output_type": "stream",
          "text": [
            "b ,  \n"
          ]
        }
      ],
      "source": [
        "# Use index to display the characters of the string\n",
        "print(fruit[0], ',', fruit[6])"
      ]
    },
    {
      "cell_type": "code",
      "execution_count": null,
      "id": "98219abe",
      "metadata": {
        "id": "98219abe",
        "outputId": "aeb0aa30-29d3-46f4-97f3-7a181357b727"
      },
      "outputs": [
        {
          "name": "stdout",
          "output_type": "stream",
          "text": [
            "a\n"
          ]
        }
      ],
      "source": [
        "# Display the fruit string using float value\n",
        "\n",
        "print(fruit[5])"
      ]
    },
    {
      "cell_type": "code",
      "execution_count": null,
      "id": "d0c89747",
      "metadata": {
        "id": "d0c89747",
        "outputId": "395feed6-4f68-430b-cca6-40a51fbd0438"
      },
      "outputs": [
        {
          "name": "stdout",
          "output_type": "stream",
          "text": [
            "12\n"
          ]
        }
      ],
      "source": [
        "# calculate the length of the string\n",
        "length = len(fruit)\n",
        "\n",
        "# Dipslay the length of the string\n",
        "print(length)"
      ]
    },
    {
      "cell_type": "code",
      "execution_count": null,
      "id": "20830fed",
      "metadata": {
        "id": "20830fed",
        "outputId": "872b1149-8ca0-45e1-d8d8-10072997624f"
      },
      "outputs": [
        {
          "name": "stdout",
          "output_type": "stream",
          "text": [
            "b\n",
            "a\n",
            "n\n",
            "a\n",
            "n\n",
            "a\n",
            " \n",
            "a\n",
            "p\n",
            "p\n",
            "l\n",
            "e\n"
          ]
        }
      ],
      "source": [
        "# Display all chacters of teh string using a for loop\n",
        "# for is a reserve word\n",
        "\n",
        "for i in fruit:\n",
        " print(i)\n",
        " # indentation\n",
        ""
      ]
    },
    {
      "cell_type": "code",
      "execution_count": null,
      "id": "f14f4d3e",
      "metadata": {
        "id": "f14f4d3e",
        "outputId": "e514fbef-c835-417c-fd78-80c07e86ebcc"
      },
      "outputs": [
        {
          "name": "stdout",
          "output_type": "stream",
          "text": [
            "10   l\n",
            "9   p\n",
            "8   p\n",
            "7   a\n",
            "6    \n",
            "5   a\n",
            "4   n\n",
            "3   a\n",
            "2   n\n",
            "1   a\n",
            "0   b\n"
          ]
        }
      ],
      "source": [
        "# Display the string in the reverse order\n",
        "\n",
        "startindex = len(fruit) - 2    # Length of the string\n",
        "stopindex = -1                 # Stopping index value\n",
        "step = -1                      # 11, 10, ..., 0\n",
        "\n",
        "for i in range(startindex, stopindex, step):\n",
        "    print(i, ' ', fruit[i])                                     # Display the index and its value"
      ]
    },
    {
      "cell_type": "code",
      "execution_count": null,
      "id": "1f0754b8",
      "metadata": {
        "id": "1f0754b8",
        "outputId": "98cb4f3f-55ab-4d66-dc8d-2ff836f7022d"
      },
      "outputs": [
        {
          "name": "stdout",
          "output_type": "stream",
          "text": [
            "10   -1   -1\n"
          ]
        }
      ],
      "source": [
        "startindex = len(fruit) - 2    # Length of the string\n",
        "stopindex = -1                 # Stopping index value\n",
        "step = -1                      # 11, 10, ..., 0\n",
        "\n",
        "print(startindex, ' ', stopindex, ' ', step)"
      ]
    },
    {
      "cell_type": "code",
      "execution_count": null,
      "id": "722f6f2d",
      "metadata": {
        "id": "722f6f2d",
        "outputId": "eb617800-769e-496a-f649-9a758ec4d443"
      },
      "outputs": [
        {
          "name": "stdout",
          "output_type": "stream",
          "text": [
            "0   b\n",
            "1   a\n",
            "2   n\n",
            "3   a\n",
            "4   n\n",
            "5   a\n",
            "6    \n",
            "7   a\n",
            "8   p\n",
            "9   p\n",
            "10   l\n",
            "11   e\n"
          ]
        }
      ],
      "source": [
        "# Display the string in the reverse order\n",
        "\n",
        "startindex = 0                             # Length of the string\n",
        "stopindex = len(fruit)                     # Stopping index value\n",
        "step = 1\n",
        "\n",
        "for i in range(startindex, stopindex, step):\n",
        "    print(i, ' ', fruit[i])                                     # Display the index and its value"
      ]
    },
    {
      "cell_type": "code",
      "execution_count": null,
      "id": "37a183cd",
      "metadata": {
        "id": "37a183cd",
        "outputId": "ce7c298c-4b71-413d-a764-4fa63ac825c7"
      },
      "outputs": [
        {
          "name": "stdout",
          "output_type": "stream",
          "text": [
            "Popular\n"
          ]
        }
      ],
      "source": [
        "# Declare a string\n",
        "s = 'Popular Python'\n",
        "\n",
        "print(s[0:7])"
      ]
    },
    {
      "cell_type": "code",
      "execution_count": null,
      "id": "85c1e1d6",
      "metadata": {
        "id": "85c1e1d6",
        "outputId": "204ee805-eb12-4df6-a9f8-3c7fa8366bf4"
      },
      "outputs": [
        {
          "name": "stdout",
          "output_type": "stream",
          "text": [
            "Python\n"
          ]
        }
      ],
      "source": [
        "print(s[8:14])"
      ]
    },
    {
      "cell_type": "code",
      "execution_count": null,
      "id": "2700df28",
      "metadata": {
        "id": "2700df28",
        "outputId": "80dff85f-6dde-441d-d5b1-a8f82985dd1f"
      },
      "outputs": [
        {
          "name": "stdout",
          "output_type": "stream",
          "text": [
            "14\n"
          ]
        }
      ],
      "source": [
        "print(len(s))"
      ]
    },
    {
      "cell_type": "code",
      "execution_count": null,
      "id": "68df78d4",
      "metadata": {
        "id": "68df78d4"
      },
      "outputs": [],
      "source": [
        "# 8, 9, 10, 11, 12, 13,"
      ]
    },
    {
      "cell_type": "markdown",
      "id": "1c16bf27",
      "metadata": {
        "id": "1c16bf27"
      },
      "source": [
        "# Are the Strings Immutable?"
      ]
    },
    {
      "cell_type": "code",
      "execution_count": null,
      "id": "2e2b3bbc",
      "metadata": {
        "id": "2e2b3bbc",
        "outputId": "677b6ab3-0171-4785-c3f2-9b7a4526ca5f"
      },
      "outputs": [
        {
          "name": "stdout",
          "output_type": "stream",
          "text": [
            "16\n"
          ]
        }
      ],
      "source": [
        "greeting = 'Welcome to Party'\n",
        "           #0\n",
        "\n",
        "length = len(greeting)\n",
        "\n",
        "print(length)"
      ]
    },
    {
      "cell_type": "code",
      "execution_count": null,
      "id": "8b12b758",
      "metadata": {
        "id": "8b12b758",
        "outputId": "78a8f959-e1e5-4a3e-98dd-d2d5f61dcaea"
      },
      "outputs": [
        {
          "ename": "TypeError",
          "evalue": "'str' object does not support item assignment",
          "output_type": "error",
          "traceback": [
            "\u001b[1;31m---------------------------------------------------------------------------\u001b[0m",
            "\u001b[1;31mTypeError\u001b[0m                                 Traceback (most recent call last)",
            "Cell \u001b[1;32mIn[31], line 1\u001b[0m\n\u001b[1;32m----> 1\u001b[0m greeting[\u001b[38;5;241m0\u001b[39m] \u001b[38;5;241m=\u001b[39m \u001b[38;5;124m'\u001b[39m\u001b[38;5;124mV\u001b[39m\u001b[38;5;124m'\u001b[39m\n",
            "\u001b[1;31mTypeError\u001b[0m: 'str' object does not support item assignment"
          ]
        }
      ],
      "source": [
        "greeting[0] = 'V'"
      ]
    },
    {
      "cell_type": "code",
      "execution_count": null,
      "id": "ea032aeb",
      "metadata": {
        "id": "ea032aeb",
        "outputId": "b6688c2d-9d3c-41ba-8c09-e17f899b2ad9"
      },
      "outputs": [
        {
          "name": "stdout",
          "output_type": "stream",
          "text": [
            "VWelcome to Party\n"
          ]
        }
      ],
      "source": [
        "new_greeting = 'V' + greeting\n",
        "\n",
        "print(new_greeting)"
      ]
    },
    {
      "cell_type": "code",
      "execution_count": null,
      "id": "d92f7242",
      "metadata": {
        "id": "d92f7242",
        "outputId": "1f0f7850-2a71-4e9f-98d9-040a3f509aac"
      },
      "outputs": [
        {
          "name": "stdout",
          "output_type": "stream",
          "text": [
            "0   b\n",
            "1   a\n",
            "2   n\n",
            "3   a\n",
            "4   n\n",
            "5   a\n",
            "Count Value:  1\n"
          ]
        }
      ],
      "source": [
        "word = 'banana'      # Declaration and initialisation of string named as word\n",
        "count = 0\n",
        "\n",
        "startindex = 0\n",
        "stopindex = len(word)\n",
        "step = 2\n",
        "\n",
        "for i in range(startindex, stopindex):\n",
        "    print(i, ' ', word[i])\n",
        "    if(word[i] == 'b'):                           # conditional if statement to check the presence of a character 'a'\n",
        "        count = count + 1\n",
        "\n",
        "print('Count Value: ', count)"
      ]
    },
    {
      "cell_type": "code",
      "execution_count": null,
      "id": "173f70b0",
      "metadata": {
        "id": "173f70b0"
      },
      "outputs": [],
      "source": [
        "== Comparison"
      ]
    },
    {
      "cell_type": "markdown",
      "id": "556390cd",
      "metadata": {
        "id": "556390cd"
      },
      "source": [
        "# Comparison of Strings"
      ]
    },
    {
      "cell_type": "code",
      "execution_count": null,
      "id": "bcc315a6",
      "metadata": {
        "id": "bcc315a6",
        "outputId": "bb6402aa-e891-4449-c3d7-2a3c79a41fb5"
      },
      "outputs": [
        {
          "name": "stdout",
          "output_type": "stream",
          "text": [
            "Please provide a word for String comparison blue berry\n",
            "Your word,  blue berry  comes after banana.\n"
          ]
        }
      ],
      "source": [
        "word = input('Please provide a word for String comparison ')\n",
        "\n",
        "word = word.lower()\n",
        "\n",
        "if (word < 'banana'):\n",
        "    print('Your word, ', word, ' comes before banana.')\n",
        "elif word > 'banana':\n",
        "    print('Your word, ', word, ' comes after banana.')\n",
        "else:\n",
        "    print('All right, banana.')"
      ]
    },
    {
      "cell_type": "code",
      "execution_count": null,
      "id": "6b0acdb9",
      "metadata": {
        "id": "6b0acdb9"
      },
      "outputs": [],
      "source": [
        "'pear' < 'banana'\n",
        "\n",
        "'pear' > 'banana'\n",
        "\n",
        "'pear' == 'banana'"
      ]
    },
    {
      "cell_type": "markdown",
      "id": "8260921c",
      "metadata": {
        "id": "8260921c"
      },
      "source": [
        "# Lists"
      ]
    },
    {
      "cell_type": "code",
      "execution_count": null,
      "id": "01ea7fff",
      "metadata": {
        "id": "01ea7fff",
        "outputId": "91b74c7e-f882-402d-f732-85d0bd1dcb87"
      },
      "outputs": [
        {
          "name": "stdout",
          "output_type": "stream",
          "text": [
            "[10, 20, 30, 40, 10] <class 'list'>\n",
            "['zebra', 'ram', 'lark'] <class 'list'>\n"
          ]
        }
      ],
      "source": [
        "# Declare the lists in Python\n",
        "\n",
        "c = [10, 20, 30, 40, 10]\n",
        "\n",
        "d = ['zebra', 'ram', 'lark']\n",
        "\n",
        "print(c, type(c))\n",
        "\n",
        "print(d, type(d))"
      ]
    },
    {
      "cell_type": "code",
      "execution_count": null,
      "id": "609eab0a",
      "metadata": {
        "id": "609eab0a",
        "outputId": "7b823c5a-7bbc-4db7-a430-e200e50e429b"
      },
      "outputs": [
        {
          "data": {
            "text/plain": [
              "(10, 40)"
            ]
          },
          "execution_count": 50,
          "metadata": {},
          "output_type": "execute_result"
        }
      ],
      "source": [
        "# Min and max functions in python\n",
        "min(c), max(c)"
      ]
    },
    {
      "cell_type": "code",
      "execution_count": null,
      "id": "39a27633",
      "metadata": {
        "id": "39a27633",
        "outputId": "05173e2b-93ed-4240-87fe-64fbbac57c65"
      },
      "outputs": [
        {
          "data": {
            "text/plain": [
              "2"
            ]
          },
          "execution_count": 51,
          "metadata": {},
          "output_type": "execute_result"
        }
      ],
      "source": [
        "# Count function in Python\n",
        "c.count(10)"
      ]
    },
    {
      "cell_type": "code",
      "execution_count": null,
      "id": "c5d88203",
      "metadata": {
        "id": "c5d88203"
      },
      "outputs": [],
      "source": []
    }
  ],
  "metadata": {
    "kernelspec": {
      "display_name": "Python 3 (ipykernel)",
      "language": "python",
      "name": "python3"
    },
    "language_info": {
      "codemirror_mode": {
        "name": "ipython",
        "version": 3
      },
      "file_extension": ".py",
      "mimetype": "text/x-python",
      "name": "python",
      "nbconvert_exporter": "python",
      "pygments_lexer": "ipython3",
      "version": "3.11.4"
    },
    "colab": {
      "provenance": [],
      "include_colab_link": true
    }
  },
  "nbformat": 4,
  "nbformat_minor": 5
}